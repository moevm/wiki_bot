{
 "cells": [
  {
   "cell_type": "code",
   "execution_count": 18,
   "metadata": {},
   "outputs": [
    {
     "name": "stdout",
     "output_type": "stream",
     "text": [
      "Downloading...\n",
      "From: https://drive.google.com/uc?id=18iEZmOkDB775R1dsfLIXJVqIHdkNpUSt\n",
      "To: /work/some/wiki_bot/exps/labse_vectorize_splitted_html/moodle.zip\n",
      "100%|██████████████████████████████████████| 11.3M/11.3M [00:00<00:00, 70.4MB/s]\n"
     ]
    }
   ],
   "source": [
    "!gdown 18iEZmOkDB775R1dsfLIXJVqIHdkNpUSt"
   ]
  },
  {
   "cell_type": "code",
   "execution_count": 20,
   "metadata": {},
   "outputs": [],
   "source": [
    "!mkdir data"
   ]
  },
  {
   "cell_type": "code",
   "execution_count": null,
   "metadata": {},
   "outputs": [],
   "source": [
    "!unzip moodle.zip -d data"
   ]
  },
  {
   "cell_type": "code",
   "execution_count": 23,
   "metadata": {},
   "outputs": [],
   "source": [
    "import pandas as pd\n",
    "from parse_proc.split_page import main\n",
    "from transformers import AutoTokenizer, AutoModelForPreTraining"
   ]
  },
  {
   "cell_type": "code",
   "execution_count": 24,
   "metadata": {},
   "outputs": [],
   "source": [
    "index = pd.read_csv(\"data/1course/1_1/links_1_1.csv\", sep=\";\", names=[\"title\", \"url\", \"filename\"])"
   ]
  },
  {
   "cell_type": "code",
   "execution_count": 25,
   "metadata": {},
   "outputs": [
    {
     "data": {
      "text/html": [
       "<div>\n",
       "<style scoped>\n",
       "    .dataframe tbody tr th:only-of-type {\n",
       "        vertical-align: middle;\n",
       "    }\n",
       "\n",
       "    .dataframe tbody tr th {\n",
       "        vertical-align: top;\n",
       "    }\n",
       "\n",
       "    .dataframe thead th {\n",
       "        text-align: right;\n",
       "    }\n",
       "</style>\n",
       "<table border=\"1\" class=\"dataframe\">\n",
       "  <thead>\n",
       "    <tr style=\"text-align: right;\">\n",
       "      <th></th>\n",
       "      <th>title</th>\n",
       "      <th>url</th>\n",
       "      <th>filename</th>\n",
       "    </tr>\n",
       "  </thead>\n",
       "  <tbody>\n",
       "    <tr>\n",
       "      <th>0</th>\n",
       "      <td>Дополнительные задачи по программированию для ...</td>\n",
       "      <td>https://se.moevm.info/doku.php/courses:program...</td>\n",
       "      <td>1.html</td>\n",
       "    </tr>\n",
       "    <tr>\n",
       "      <th>1</th>\n",
       "      <td>Форма для записи результатов</td>\n",
       "      <td>https://forms.gle/RJySDieYjnYoBBKL8</td>\n",
       "      <td>2.html</td>\n",
       "    </tr>\n",
       "    <tr>\n",
       "      <th>2</th>\n",
       "      <td>Правила и описание рейтинговой системы на осен...</td>\n",
       "      <td>https://docs.google.com/document/d/e/2PACX-1vT...</td>\n",
       "      <td>3.html</td>\n",
       "    </tr>\n",
       "    <tr>\n",
       "      <th>3</th>\n",
       "      <td>Правила и описание рейтинговой системы на весн...</td>\n",
       "      <td>https://docs.google.com/document/d/e/2PACX-1vT...</td>\n",
       "      <td>4.html</td>\n",
       "    </tr>\n",
       "    <tr>\n",
       "      <th>4</th>\n",
       "      <td>Правила дистанционной защиты лабораторных и ку...</td>\n",
       "      <td>https://docs.google.com/document/d/e/2PACX-1vT...</td>\n",
       "      <td>5.html</td>\n",
       "    </tr>\n",
       "  </tbody>\n",
       "</table>\n",
       "</div>"
      ],
      "text/plain": [
       "                                               title  \\\n",
       "0  Дополнительные задачи по программированию для ...   \n",
       "1                       Форма для записи результатов   \n",
       "2  Правила и описание рейтинговой системы на осен...   \n",
       "3  Правила и описание рейтинговой системы на весн...   \n",
       "4  Правила дистанционной защиты лабораторных и ку...   \n",
       "\n",
       "                                                 url filename  \n",
       "0  https://se.moevm.info/doku.php/courses:program...   1.html  \n",
       "1                https://forms.gle/RJySDieYjnYoBBKL8   2.html  \n",
       "2  https://docs.google.com/document/d/e/2PACX-1vT...   3.html  \n",
       "3  https://docs.google.com/document/d/e/2PACX-1vT...   4.html  \n",
       "4  https://docs.google.com/document/d/e/2PACX-1vT...   5.html  "
      ]
     },
     "execution_count": 25,
     "metadata": {},
     "output_type": "execute_result"
    }
   ],
   "source": [
    "index.head()"
   ]
  },
  {
   "cell_type": "code",
   "execution_count": 26,
   "metadata": {},
   "outputs": [],
   "source": [
    "def filter_urls(x):\n",
    "    good_domain = [\n",
    "        \"docs.google.com\",\n",
    "        \"se.moevm.info\"\n",
    "    ]\n",
    "    \n",
    "    for domain in good_domain:\n",
    "        if domain in x:\n",
    "            return 1\n",
    "    \n",
    "    return 0"
   ]
  },
  {
   "cell_type": "code",
   "execution_count": 27,
   "metadata": {},
   "outputs": [],
   "source": [
    "index[\"is_good\"] = index[\"url\"].apply(filter_urls)\n",
    "filtered_index = index[index['is_good'] == 1]\n",
    "filtered_index = filtered_index.drop(columns=\"is_good\")"
   ]
  },
  {
   "cell_type": "code",
   "execution_count": 28,
   "metadata": {},
   "outputs": [],
   "source": [
    "filtered_index.to_csv(\"filtered_links_1_1.csv\", sep=\";\", header=False)"
   ]
  },
  {
   "cell_type": "code",
   "execution_count": 29,
   "metadata": {},
   "outputs": [],
   "source": [
    "from text_dataset_from_html import TextDatasetFromHTML\n",
    "from search_space import SearchSpace\n",
    "import torch\n",
    "import torch.nn.functional as F"
   ]
  },
  {
   "cell_type": "code",
   "execution_count": 30,
   "metadata": {},
   "outputs": [],
   "source": [
    "dataset = TextDatasetFromHTML(\n",
    "    \"data/1course/1_1/\",\n",
    "    \"filtered_links_1_1.csv\",\n",
    "    split_func=main\n",
    "    )"
   ]
  },
  {
   "cell_type": "code",
   "execution_count": 31,
   "metadata": {},
   "outputs": [],
   "source": [
    "tokenizer = AutoTokenizer.from_pretrained(\"cointegrated/LaBSE-en-ru\")\n",
    "model = AutoModelForPreTraining.from_pretrained(\"cointegrated/LaBSE-en-ru\")\n",
    "model = model.to(\"cuda:0\")"
   ]
  },
  {
   "cell_type": "code",
   "execution_count": 32,
   "metadata": {},
   "outputs": [],
   "source": [
    "def vectorize_func(text):\n",
    "    encoded_input = tokenizer([text], padding=True, return_tensors='pt')\n",
    "    encoded_input.to(model.device)\n",
    "    with torch.no_grad():\n",
    "        model_output = model(**encoded_input, output_hidden_states=True)\n",
    "    embeddings = model_output.hidden_states[-1]\n",
    "    embeddings = torch.mean(embeddings, axis=1)\n",
    "    embeddings = torch.nn.functional.normalize(embeddings)\n",
    "\n",
    "    return embeddings.detach().cpu()"
   ]
  },
  {
   "cell_type": "code",
   "execution_count": 33,
   "metadata": {},
   "outputs": [],
   "source": [
    "# can be more faster with batching or by using mesh/KD-Tree/etc\n",
    "search_space = SearchSpace([dataset], text_vectorize_func=vectorize_func)"
   ]
  },
  {
   "cell_type": "code",
   "execution_count": 34,
   "metadata": {},
   "outputs": [],
   "source": [
    "def cos_sim(a, b):\n",
    "    return F.cosine_similarity(a, b)"
   ]
  },
  {
   "cell_type": "code",
   "execution_count": 35,
   "metadata": {},
   "outputs": [],
   "source": [
    "dist, res = search_space.find_top_nearest(\"Сколько будет контрольных работ у 1 курса по программированию?\", metric=cos_sim, cnt=2)"
   ]
  },
  {
   "cell_type": "code",
   "execution_count": 36,
   "metadata": {},
   "outputs": [
    {
     "name": "stdout",
     "output_type": "stream",
     "text": [
      "Правила и описание рейтинговой системы на осень 2022\n"
     ]
    }
   ],
   "source": [
    "print(res[0][1])"
   ]
  },
  {
   "cell_type": "code",
   "execution_count": 15,
   "metadata": {},
   "outputs": [
    {
     "data": {
      "text/plain": [
       "tensor([0.6626, 0.6417])"
      ]
     },
     "execution_count": 15,
     "metadata": {},
     "output_type": "execute_result"
    }
   ],
   "source": [
    "dist"
   ]
  },
  {
   "cell_type": "code",
   "execution_count": null,
   "metadata": {},
   "outputs": [],
   "source": []
  }
 ],
 "metadata": {
  "kernelspec": {
   "display_name": "base",
   "language": "python",
   "name": "python3"
  },
  "language_info": {
   "codemirror_mode": {
    "name": "ipython",
    "version": 3
   },
   "file_extension": ".py",
   "mimetype": "text/x-python",
   "name": "python",
   "nbconvert_exporter": "python",
   "pygments_lexer": "ipython3",
   "version": "3.9.7"
  },
  "orig_nbformat": 4
 },
 "nbformat": 4,
 "nbformat_minor": 2
}
