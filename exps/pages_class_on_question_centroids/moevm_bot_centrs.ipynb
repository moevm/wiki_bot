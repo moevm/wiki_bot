{
  "nbformat": 4,
  "nbformat_minor": 0,
  "metadata": {
    "colab": {
      "private_outputs": true,
      "provenance": []
    },
    "kernelspec": {
      "name": "python3",
      "display_name": "Python 3"
    },
    "language_info": {
      "name": "python"
    }
  },
  "cells": [
    {
      "cell_type": "code",
      "execution_count": null,
      "metadata": {
        "id": "ZU56DMnpv8gp"
      },
      "outputs": [],
      "source": [
        "!pip install transformers"
      ]
    },
    {
      "cell_type": "code",
      "source": [
        "import torch\n",
        "from torch.utils.data import Dataset, DataLoader\n",
        "from transformers import AutoTokenizer, AutoModel, PreTrainedTokenizer\n",
        "from sklearn import preprocessing\n",
        "from sklearn.feature_extraction.text import CountVectorizer\n",
        "import pandas as pd\n",
        "import torch.nn.functional as F\n",
        "from tqdm import tqdm\n",
        "from torch import nn"
      ],
      "metadata": {
        "id": "AulExtvgwCpo"
      },
      "execution_count": null,
      "outputs": []
    },
    {
      "cell_type": "code",
      "source": [
        "device = \"cuda\" if torch.cuda.is_available() else \"cpu\""
      ],
      "metadata": {
        "id": "2sGjlZpmwEyB"
      },
      "execution_count": null,
      "outputs": []
    },
    {
      "cell_type": "code",
      "source": [
        "url='https://drive.google.com/file/d/1NKoxe-KUirKp91yLZhCz63QFCTXEGPoo/view?usp=share_link'\n",
        "url='https://drive.google.com/uc?id=' + url.split('/')[-2]\n",
        "data = pd.read_csv(url)"
      ],
      "metadata": {
        "id": "smgB8YjYwGSH"
      },
      "execution_count": null,
      "outputs": []
    },
    {
      "cell_type": "code",
      "source": [
        "data['url_with_ans'] = data['url_with_ans'].apply(str.strip)\n",
        "data['question'] = data['question'].apply(str.lower)"
      ],
      "metadata": {
        "id": "9KNBvCk9wL8K"
      },
      "execution_count": null,
      "outputs": []
    },
    {
      "cell_type": "code",
      "source": [
        "tokenizer = AutoTokenizer.from_pretrained(\"cointegrated/LaBSE-en-ru\")\n",
        "model = AutoModel.from_pretrained(\"cointegrated/LaBSE-en-ru\")\n",
        "model = model.to(device)\n",
        "model.eval()"
      ],
      "metadata": {
        "id": "ZGqI4rnqwNNa"
      },
      "execution_count": null,
      "outputs": []
    },
    {
      "cell_type": "code",
      "source": [
        "label_enc = preprocessing.LabelEncoder()\n",
        "data['target'] = label_enc.fit_transform(data['url_with_ans'])"
      ],
      "metadata": {
        "id": "YT5NJHy5wqAI"
      },
      "execution_count": null,
      "outputs": []
    },
    {
      "cell_type": "code",
      "source": [
        "def vectorize(sentences):\n",
        "  encoded_input = tokenizer(sentences, padding=True, return_tensors='pt')\n",
        "  with torch.no_grad():\n",
        "    model_output = model(**encoded_input)\n",
        "  embeddings = model_output.pooler_output\n",
        "  bert_embeddings = torch.nn.functional.normalize(embeddings)\n",
        "\n",
        "  return bert_embeddings"
      ],
      "metadata": {
        "id": "qDmyguKvwPUB"
      },
      "execution_count": null,
      "outputs": []
    },
    {
      "cell_type": "code",
      "source": [
        "centroids = {}\n",
        "for class_number in range(len(label_enc.classes_)):\n",
        "  class_data = data[data.target == class_number]\n",
        "  bert_embeddings = vectorize(class_data['question'].tolist())\n",
        "  bert_embeddings = torch.sum(bert_embeddings, axis=0)\n",
        "  centroids[class_number] = bert_embeddings"
      ],
      "metadata": {
        "id": "edM-MvJcwQgh"
      },
      "execution_count": null,
      "outputs": []
    },
    {
      "cell_type": "code",
      "source": [
        "def inference(question: str, centroids):\n",
        "  vector = vectorize([question])\n",
        "\n",
        "  cos_sims = {}\n",
        "  for class_num in centroids:\n",
        "    cos_sims[class_num] = F.cosine_similarity(vector, centroids[class_num])\n",
        "\n",
        "  return cos_sims"
      ],
      "metadata": {
        "id": "EaSYMVWpwRe0"
      },
      "execution_count": null,
      "outputs": []
    },
    {
      "cell_type": "code",
      "source": [
        "result = inference(\"Какие правила лабораторных работ по программированию\", centroids) "
      ],
      "metadata": {
        "id": "Nz3v5AZOwrKK"
      },
      "execution_count": null,
      "outputs": []
    },
    {
      "cell_type": "code",
      "source": [
        "ind = max(result, key=result.get)\n",
        "print(label_enc.inverse_transform([ind])[0])\n",
        "print(result)"
      ],
      "metadata": {
        "id": "Nb3CDGYmykdv"
      },
      "execution_count": null,
      "outputs": []
    },
    {
      "cell_type": "code",
      "source": [
        "print(label_enc.inverse_transform([1])[0])"
      ],
      "metadata": {
        "id": "yjGPwKhgxNXf"
      },
      "execution_count": null,
      "outputs": []
    },
    {
      "cell_type": "code",
      "source": [
        "data['target'].value_counts()"
      ],
      "metadata": {
        "id": "-zbTz2G_xxd3"
      },
      "execution_count": null,
      "outputs": []
    },
    {
      "cell_type": "code",
      "source": [],
      "metadata": {
        "id": "asDpZLoq-v_9"
      },
      "execution_count": null,
      "outputs": []
    }
  ]
}